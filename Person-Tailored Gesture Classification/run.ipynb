{
 "cells": [
  {
   "cell_type": "code",
   "execution_count": 18,
   "id": "22dc1f31-1441-4ada-998d-15db76cb030e",
   "metadata": {},
   "outputs": [],
   "source": [
    "TARGET = 6\n",
    "SOURCE = f\"./../datasets/SIGGI/full/{TARGET}\""
   ]
  },
  {
   "cell_type": "code",
   "execution_count": 6,
   "id": "3c5be141-cb5c-4a57-b1a9-5b694282ff8f",
   "metadata": {
    "tags": []
   },
   "outputs": [],
   "source": [
    "%matplotlib inline"
   ]
  },
  {
   "cell_type": "code",
   "execution_count": 19,
   "id": "623aae50-d2b4-468c-804d-4694e0825e15",
   "metadata": {
    "tags": []
   },
   "outputs": [
    {
     "name": "stdout",
     "output_type": "stream",
     "text": [
      "Fusing layers... \n",
      "IDetect.fuse\n",
      " Convert model to Traced-model... \n",
      " traced_script_module saved! \n",
      " model is traced! \n",
      "\n",
      "Fusing layers... \n",
      "IDetect.fuse\n",
      " Convert model to Traced-model... \n",
      " traced_script_module saved! \n",
      " model is traced! \n",
      "\n",
      "<prep.LoadImages.LoadImages object at 0x7f864c0eeb30>\n"
     ]
    },
    {
     "name": "stderr",
     "output_type": "stream",
     "text": [
      "120it [06:17,  3.15s/it]"
     ]
    },
    {
     "name": "stdout",
     "output_type": "stream",
     "text": [
      "{'089a0eb4af.jpg': -1, '0ab286ac58.jpg': 3, '1b4fb282ff.jpg': 2, '26cd511665.jpg': 0, '2b012b9535.jpg': 1, '3cdfe8c147.jpg': 1, '44a77dba8a.jpg': 0, '4c1d779af8.jpg': 0, '50c9b1d764.jpg': 4, '66efff4e2e.jpg': 4, '67cc4f1bc7.jpg': 2, '768af6a928.jpg': 2, '7f0fb6e92e.jpg': 2, '80383c9901.jpg': 3, '88448f0332.jpg': 0, '964914962b.jpg': 3, '9783939cca.jpg': -1, '9f684d1ab1.jpg': 1, '9faaeed448.jpg': 0, 'IMG_20230721_165659.jpg': -1, 'IMG_20230721_181205.jpg': -1, 'IMG_20230722_103418.jpg': -1, 'IMG_20230722_103426.jpg': -1, 'IMG_20230722_103441.jpg': -1, 'IMG_20230722_103611.jpg': -1, 'IMG_20230722_103708.jpg': -1, 'IMG_20230722_103714.jpg': -1, 'IMG_20230722_103854.jpg': -1, 'IMG_20230722_103936.jpg': -1, 'IMG_20230722_104000.jpg': -1, 'IMG_20230722_104203.jpg': -1, 'IMG_20230722_104616.jpg': 1, 'IMG_20230722_104656.jpg': -1, 'IMG_20230722_104659.jpg': -1, 'IMG_20230722_104707.jpg': 0, 'IMG_20230722_104737.jpg': -1, 'IMG_20230722_104741.jpg': -1, 'IMG_20230722_104803.jpg': -1, 'IMG_20230722_105004.jpg': -1, 'IMG_20230722_105039.jpg': -1, 'IMG_20230722_105214.jpg': -1, 'IMG_20230722_105227.jpg': -1, 'IMG_20230722_105247.jpg': -1, 'IMG_20230722_105253.jpg': -1, 'IMG_20230722_105255.jpg': -1, 'IMG_20230722_105328.jpg': -1, 'IMG_20230722_105346.jpg': -1, 'IMG_20230722_105450.jpg': -1, 'IMG_20230722_105506.jpg': -1, 'IMG_20230722_105559.jpg': -1, 'IMG_20230722_105602.jpg': -1, 'IMG_20230722_105608.jpg': -1, 'IMG_20230722_105612.jpg': -1, 'IMG_20230722_123015.jpg': -1, 'IMG_20230722_123156.jpg': 4, 'IMG_20230722_123320.jpg': 3, 'IMG_20230722_123517.jpg': 1, 'IMG_20230722_123548.jpg': 2, 'IMG_20230722_123638.jpg': 1, 'IMG_20230722_123706.jpg': 3, 'IMG_20230722_123717.jpg': 2, 'IMG_20230722_123821.jpg': -1, 'IMG_20230722_123834.jpg': -1, 'IMG_20230722_123842.jpg': -1, 'IMG_20230722_123845.jpg': -1, 'IMG_20230722_123849.jpg': -1, 'IMG_20230722_123904.jpg': -1, 'IMG_20230722_123932.jpg': -1, 'IMG_20230722_124027.jpg': 3, 'IMG_20230722_124041.jpg': 0, 'IMG_20230722_124044.jpg': 2, 'IMG_20230722_124128.jpg': 3, 'IMG_20230722_124150.jpg': 0, 'IMG_20230722_124224.jpg': 0, 'IMG_20230722_124347.jpg': -1, 'IMG_20230722_124353.jpg': -1, 'IMG_20230722_130756.jpg': 3, 'IMG_20230722_130825.jpg': 3, 'IMG_20230722_131139.jpg': 0, 'IMG_20230722_131143.jpg': 0, 'IMG_20230722_131152.jpg': 1, 'IMG_20230722_131239.jpg': 3, 'IMG_20230722_131300.jpg': 0, 'IMG_20230722_131429.jpg': -1, 'IMG_20230722_131448.jpg': -1, 'IMG_20230722_131517.jpg': -1, 'IMG_20230722_131753.jpg': -1, 'IMG_20230722_131812.jpg': -1, 'IMG_20230722_131957.jpg': 0, 'IMG_20230722_132005.jpg': 1, 'IMG_20230722_132152.jpg': 3, 'IMG_20230722_132222.jpg': -1, 'IMG_20230722_132427.jpg': -1, 'IMG_20230722_132429.jpg': -1, 'IMG_20230722_132513.jpg': 1, 'IMG_20230722_132517.jpg': -1, 'IMG_20230722_132542.jpg': -1, 'IMG_20230722_132611.jpg': -1, 'IMG_20230722_132616.jpg': -1, 'IMG_20230722_132631.jpg': -1, 'IMG_20230722_132642.jpg': -1, 'IMG_20230722_132747.jpg': 0, 'IMG_20230722_132846.jpg': -1, 'IMG_20230722_132848.jpg': 0, 'IMG_20230722_135610.jpg': 0, 'IMG_20230722_135625.jpg': 0, 'IMG_20230722_135656.jpg': 0, 'IMG_20230722_135826.jpg': 1, 'IMG_20230722_135832.jpg': 3, 'IMG_20230722_135834.jpg': 3, 'IMG_20230722_135915.jpg': 0, 'IMG_20230722_135933.jpg': 0, 'IMG_20230722_140202.jpg': 4, 'IMG_20230722_140219.jpg': 0, 'IMG_20230722_140357.jpg': 4, 'IMG_20230722_140401.jpg': 2, 'IMG_20230722_140709.jpg': 0, 'ab51a61997.jpg': 0, 'aec4a380b3.jpg': 3, 'fa226d7d13.jpg': 0}\n",
      "average time: 2698.4ms\n",
      "Saved all predictions in a COCO-compatible JSON file ./results/predictions_6.json\n",
      "Average inference time saved to ./results/speed.txt\n"
     ]
    },
    {
     "name": "stderr",
     "output_type": "stream",
     "text": [
      "\n"
     ]
    }
   ],
   "source": [
    "%run main.py --target $TARGET --img-source $SOURCE --device 'cpu' --conf-thres 0.287 --save"
   ]
  },
  {
   "cell_type": "code",
   "execution_count": null,
   "id": "007c7560-a1e7-4ed1-aa13-23a1ecce97a7",
   "metadata": {},
   "outputs": [],
   "source": []
  }
 ],
 "metadata": {
  "kernelspec": {
   "display_name": "Python (yolo)",
   "language": "python",
   "name": "yolo"
  },
  "language_info": {
   "codemirror_mode": {
    "name": "ipython",
    "version": 3
   },
   "file_extension": ".py",
   "mimetype": "text/x-python",
   "name": "python",
   "nbconvert_exporter": "python",
   "pygments_lexer": "ipython3",
   "version": "3.10.13"
  }
 },
 "nbformat": 4,
 "nbformat_minor": 5
}
