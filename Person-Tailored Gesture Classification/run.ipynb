{
 "cells": [
  {
   "cell_type": "code",
   "execution_count": 2,
   "id": "3c5be141-cb5c-4a57-b1a9-5b694282ff8f",
   "metadata": {
    "tags": []
   },
   "outputs": [],
   "source": [
    "%matplotlib inline"
   ]
  },
  {
   "cell_type": "code",
   "execution_count": 3,
   "id": "623aae50-d2b4-468c-804d-4694e0825e15",
   "metadata": {
    "tags": []
   },
   "outputs": [
    {
     "name": "stdout",
     "output_type": "stream",
     "text": [
      "Fusing layers... \n",
      "IDetect.fuse\n"
     ]
    },
    {
     "name": "stderr",
     "output_type": "stream",
     "text": [
      "/home/jovyan/yolo/lib/python3.10/site-packages/torch/functional.py:512: UserWarning: torch.meshgrid: in an upcoming release, it will be required to pass the indexing argument. (Triggered internally at ../aten/src/ATen/native/TensorShape.cpp:3587.)\n",
      "  return _VF.meshgrid(tensors, **kwargs)  # type: ignore[attr-defined]\n",
      "/home/jovyan/yolo/lib/python3.10/site-packages/torch/nn/modules/conv.py:456: UserWarning: Plan failed with a cudnnException: CUDNN_BACKEND_EXECUTION_PLAN_DESCRIPTOR: cudnnFinalize Descriptor Failed cudnn_status: CUDNN_STATUS_NOT_SUPPORTED (Triggered internally at ../aten/src/ATen/native/cudnn/Conv_v8.cpp:919.)\n",
      "  return F.conv2d(input, weight, bias, self.stride,\n"
     ]
    },
    {
     "name": "stdout",
     "output_type": "stream",
     "text": [
      "Fusing layers... \n",
      "IDetect.fuse\n",
      "<prep.LoadImages.LoadImages object at 0x7f14c00ec1c0>\n"
     ]
    },
    {
     "name": "stderr",
     "output_type": "stream",
     "text": [
      "120it [02:05,  1.04s/it]\n"
     ]
    },
    {
     "name": "stdout",
     "output_type": "stream",
     "text": [
      "{'075823f53f.jpg': 0, '185fcae3be.jpg': 2, '236ba0daed.jpg': 0, '2b70b73c73.jpg': 4, '474d3ae1fe.jpg': 0, '4a8512a9e3.jpg': 0, '523fe5470b.jpg': 4, '5cc8062e8e.jpg': 0, '62f5f46069.jpg': 0, '7a1caec0a6.jpg': 1, '800544baa9.jpg': 0, '8c4b0c3f35.jpg': 0, '93712b9cae.jpg': 0, '9a0fca588f.jpg': 0, '9a997016b4.jpg': 4, '9fdeb91f0f.jpg': 3, 'IMG_20230721_165941.jpg': -1, 'IMG_20230721_170018.jpg': -1, 'IMG_20230721_181025.jpg': -1, 'IMG_20230721_181155.jpg': -1, 'IMG_20230722_102715.jpg': -1, 'IMG_20230722_103335.jpg': -1, 'IMG_20230722_103432.jpg': -1, 'IMG_20230722_103611.jpg': -1, 'IMG_20230722_103624.jpg': -1, 'IMG_20230722_103657.jpg': -1, 'IMG_20230722_103756.jpg': -1, 'IMG_20230722_103842.jpg': -1, 'IMG_20230722_104042.jpg': -1, 'IMG_20230722_104112.jpg': -1, 'IMG_20230722_104114.jpg': -1, 'IMG_20230722_104130.jpg': -1, 'IMG_20230722_104203.jpg': -1, 'IMG_20230722_104214.jpg': -1, 'IMG_20230722_104741.jpg': -1, 'IMG_20230722_104816.jpg': -1, 'IMG_20230722_105002.jpg': -1, 'IMG_20230722_105223.jpg': -1, 'IMG_20230722_105253.jpg': -1, 'IMG_20230722_105255.jpg': -1, 'IMG_20230722_105338.jpg': -1, 'IMG_20230722_105342.jpg': -1, 'IMG_20230722_105346.jpg': -1, 'IMG_20230722_105506.jpg': -1, 'IMG_20230722_105517.jpg': -1, 'IMG_20230722_105555.jpg': -1, 'IMG_20230722_105608.jpg': 0, 'IMG_20230722_123047.jpg': -1, 'IMG_20230722_123320.jpg': -1, 'IMG_20230722_123457.jpg': -1, 'IMG_20230722_123512.jpg': -1, 'IMG_20230722_123548.jpg': -1, 'IMG_20230722_123601.jpg': -1, 'IMG_20230722_123751.jpg': -1, 'IMG_20230722_123821.jpg': -1, 'IMG_20230722_123908.jpg': -1, 'IMG_20230722_124002.jpg': -1, 'IMG_20230722_124018.jpg': -1, 'IMG_20230722_124038.jpg': -1, 'IMG_20230722_124041.jpg': -1, 'IMG_20230722_124138.jpg': -1, 'IMG_20230722_124158.jpg': -1, 'IMG_20230722_124233.jpg': -1, 'IMG_20230722_124245.jpg': -1, 'IMG_20230722_130453.jpg': 2, 'IMG_20230722_130611.jpg': 0, 'IMG_20230722_130825.jpg': 3, 'IMG_20230722_131138.jpg': 0, 'IMG_20230722_131139.jpg': 0, 'IMG_20230722_131214.jpg': 3, 'IMG_20230722_131218.jpg': 2, 'IMG_20230722_131333.jpg': -1, 'IMG_20230722_131409.jpg': -1, 'IMG_20230722_131420.jpg': -1, 'IMG_20230722_131457.jpg': 4, 'IMG_20230722_131525.jpg': 0, 'IMG_20230722_131628.jpg': 0, 'IMG_20230722_131652.jpg': 0, 'IMG_20230722_131659.jpg': 0, 'IMG_20230722_131724.jpg': 4, 'IMG_20230722_131915.jpg': 0, 'IMG_20230722_132009.jpg': 0, 'IMG_20230722_132012.jpg': 4, 'IMG_20230722_132052.jpg': 4, 'IMG_20230722_132204.jpg': 4, 'IMG_20230722_132212.jpg': 0, 'IMG_20230722_132217.jpg': 0, 'IMG_20230722_132429.jpg': -1, 'IMG_20230722_132454.jpg': -1, 'IMG_20230722_132501.jpg': -1, 'IMG_20230722_132513.jpg': 0, 'IMG_20230722_132739.jpg': 4, 'IMG_20230722_132754.jpg': -1, 'IMG_20230722_132756.jpg': -1, 'IMG_20230722_132803.jpg': -1, 'IMG_20230722_132807.jpg': -1, 'IMG_20230722_135325.jpg': 0, 'IMG_20230722_135448.jpg': 3, 'IMG_20230722_135644.jpg': 4, 'IMG_20230722_135651.jpg': 2, 'IMG_20230722_135701.jpg': 0, 'IMG_20230722_135737.jpg': 2, 'IMG_20230722_135821.jpg': 1, 'IMG_20230722_135826.jpg': 2, 'IMG_20230722_135830.jpg': 3, 'IMG_20230722_135959.jpg': 0, 'IMG_20230722_140035.jpg': 0, 'IMG_20230722_140057.jpg': 0, 'IMG_20230722_140136.jpg': 0, 'IMG_20230722_140219.jpg': 3, 'IMG_20230722_140243.jpg': -1, 'IMG_20230722_140259.jpg': 0, 'IMG_20230722_140335.jpg': 2, 'IMG_20230722_140417.jpg': 0, 'IMG_20230722_140623.jpg': 4, 'a4c9308f87.jpg': 0, 'afb1658e05.jpg': 0, 'b5ce705328.jpg': 0, 'e98a96f150.jpg': 1, 'eac8e580ea.jpg': 0}\n",
      "[1059.0195655822754, 400.1171588897705, 403.4686088562012, 381.0584545135498, 376.67202949523926, 423.8569736480713, 490.58055877685547, 590.191125869751, 94.6354866027832, 498.31295013427734, 27.844667434692383, 58.07018280029297, 47.241926193237305, 355.8049201965332, 45.264244079589844, 396.38423919677734, 14.540433883666992, 7.258176803588867, 8.460044860839844, 8.251190185546875, 39.83306884765625, 7.385015487670898, 8.405685424804688, 6.453037261962891, 7.141351699829102, 39.418935775756836, 38.79261016845703, 8.99648666381836, 8.1787109375, 33.95986557006836, 7.421970367431641, 26.590824127197266, 30.696392059326172, 7.618188858032227, 9.113311767578125, 29.08635139465332, 7.833957672119141, 7.613897323608398, 31.98385238647461, 6.520271301269531, 7.015228271484375, 9.990930557250977, 8.33749771118164, 35.23612022399902, 7.398366928100586, 7.591485977172852, 49.63111877441406, 20.049333572387695, 7.405757904052734, 7.813930511474609, 7.796525955200195, 6.663799285888672, 35.96186637878418, 10.190010070800781, 8.129596710205078, 7.297039031982422, 34.74116325378418, 7.383108139038086, 8.542537689208984, 12.79139518737793, 37.13035583496094, 10.300636291503906, 8.335113525390625, 11.446714401245117, 22.268056869506836, 53.832054138183594, 28.0911922454834, 22.797346115112305, 38.15746307373047, 68.91989707946777, 44.73614692687988, 7.708311080932617, 6.416797637939453, 8.699893951416016, 36.183834075927734, 355.63015937805176, 44.950008392333984, 47.87898063659668, 99.31111335754395, 77.78501510620117, 49.86858367919922, 68.96734237670898, 54.08620834350586, 55.67526817321777, 59.96966361999512, 88.51504325866699, 91.66502952575684, 6.5517425537109375, 7.014751434326172, 19.542455673217773, 405.1499366760254, 20.85590362548828, 7.994651794433594, 7.348299026489258, 33.01119804382324, 9.386062622070312, 50.84347724914551, 50.39691925048828, 43.10321807861328, 36.52548789978027, 91.66312217712402, 47.792673110961914, 47.55377769470215, 51.526546478271484, 21.935701370239258, 40.86923599243164, 40.47346115112305, 70.96600532531738, 88.16218376159668, 55.61041831970215, 7.854700088500977, 84.63811874389648, 21.462678909301758, 464.7407531738281, 55.420637130737305, 25.243520736694336, 91.2020206451416, 86.25268936157227, 89.07938003540039, 353.62744331359863]\n",
      "average time: 86.5ms\n",
      "Saved all predictions in a COCO-compatible JSON file ./results/predictions_0.json\n",
      "Average inference time saved to ./results/speed.txt\n"
     ]
    }
   ],
   "source": [
    "%run main.py --target 0 --img-source \"./../datasets/SIGGI/full/0\" --conf-thres 0.231 --show-plots --save"
   ]
  },
  {
   "cell_type": "code",
   "execution_count": 7,
   "id": "ce72d63c-d703-4bd4-b023-b23f7efca986",
   "metadata": {},
   "outputs": [
    {
     "name": "stdout",
     "output_type": "stream",
     "text": [
      "Name: Target_0, Average Speed: 442.71\n"
     ]
    }
   ],
   "source": [
    "# Define the file path\n",
    "file_path = './results/speed.txt'\n",
    "\n",
    "# Read and parse the file\n",
    "results = {}\n",
    "\n",
    "with open(file_path, 'r') as f:\n",
    "    for line in f:\n",
    "        name, speed_str = line.split(':', 1)\n",
    "        name = name.strip()\n",
    "        speed = float(speed_str.strip())\n",
    "        results[name] = speed\n",
    "\n",
    "# Display the parsed results\n",
    "for name, speed in results.items():\n",
    "    print(f\"Name: {name}, Average Speed: {speed:.2f}\")"
   ]
  },
  {
   "cell_type": "code",
   "execution_count": null,
   "id": "007c7560-a1e7-4ed1-aa13-23a1ecce97a7",
   "metadata": {},
   "outputs": [],
   "source": []
  }
 ],
 "metadata": {
  "kernelspec": {
   "display_name": "Python (yolo)",
   "language": "python",
   "name": "yolo"
  },
  "language_info": {
   "codemirror_mode": {
    "name": "ipython",
    "version": 3
   },
   "file_extension": ".py",
   "mimetype": "text/x-python",
   "name": "python",
   "nbconvert_exporter": "python",
   "pygments_lexer": "ipython3",
   "version": "3.10.13"
  }
 },
 "nbformat": 4,
 "nbformat_minor": 5
}
