{
 "cells": [
  {
   "cell_type": "code",
   "execution_count": 6,
   "id": "dc5036cf-767f-4cdc-8e91-0ea2287c4e01",
   "metadata": {},
   "outputs": [
    {
     "name": "stdout",
     "output_type": "stream",
     "text": [
      "?\n"
     ]
    }
   ],
   "source": [
    "x = []\n",
    "if not 0:\n",
    "    print('?')"
   ]
  },
  {
   "cell_type": "code",
   "execution_count": 7,
   "id": "90c29779-a77c-41fe-911f-aedf07c3c321",
   "metadata": {
    "tags": []
   },
   "outputs": [],
   "source": [
    "def hm():\n",
    "    return -1"
   ]
  },
  {
   "cell_type": "code",
   "execution_count": 8,
   "id": "4a7d5aa9-9150-4dc2-86bc-3be6bb97f763",
   "metadata": {
    "tags": []
   },
   "outputs": [
    {
     "data": {
      "text/plain": [
       "-1"
      ]
     },
     "execution_count": 8,
     "metadata": {},
     "output_type": "execute_result"
    }
   ],
   "source": [
    "hm()"
   ]
  },
  {
   "cell_type": "code",
   "execution_count": 9,
   "id": "117275ec-dd84-4855-84be-624670dbcc7c",
   "metadata": {},
   "outputs": [
    {
     "ename": "TypeError",
     "evalue": "object of type 'int' has no len()",
     "output_type": "error",
     "traceback": [
      "\u001b[0;31m---------------------------------------------------------------------------\u001b[0m",
      "\u001b[0;31mTypeError\u001b[0m                                 Traceback (most recent call last)",
      "Cell \u001b[0;32mIn[9], line 2\u001b[0m\n\u001b[1;32m      1\u001b[0m x \u001b[38;5;241m=\u001b[39m \u001b[38;5;241m-\u001b[39m\u001b[38;5;241m1\u001b[39m\n\u001b[0;32m----> 2\u001b[0m \u001b[38;5;28;43mlen\u001b[39;49m\u001b[43m(\u001b[49m\u001b[43mx\u001b[49m\u001b[43m)\u001b[49m\n",
      "\u001b[0;31mTypeError\u001b[0m: object of type 'int' has no len()"
     ]
    }
   ],
   "source": [
    "x = -1\n",
    "len(x)"
   ]
  },
  {
   "cell_type": "code",
   "execution_count": 10,
   "id": "ad3c4fd8-8aa5-4732-b8f6-61a32c25147b",
   "metadata": {
    "tags": []
   },
   "outputs": [
    {
     "data": {
      "text/plain": [
       "[(0.0, 0.86767578125)]"
      ]
     },
     "execution_count": 10,
     "metadata": {},
     "output_type": "execute_result"
    }
   ],
   "source": [
    "x = [[168.0, 624.0, 383.0, 784.0, 0.86767578125, 0.0]]\n",
    "G = [(detection[5], detection[4]) for detection in x]\n",
    "G"
   ]
  },
  {
   "cell_type": "code",
   "execution_count": 13,
   "id": "4279beef-5756-4051-93fe-78684cf7d80d",
   "metadata": {
    "tags": []
   },
   "outputs": [
    {
     "data": {
      "text/plain": [
       "0.0"
      ]
     },
     "execution_count": 13,
     "metadata": {},
     "output_type": "execute_result"
    }
   ],
   "source": [
    "if len(G) == 1:\n",
    "    g, c = G[0]\n",
    "    p = g if c > 0.5 else 0\n",
    "    \n",
    "p"
   ]
  },
  {
   "cell_type": "code",
   "execution_count": 2,
   "id": "4eb66812-3a5c-4513-bfbb-ae6eabe50c4c",
   "metadata": {
    "tags": []
   },
   "outputs": [
    {
     "name": "stdout",
     "output_type": "stream",
     "text": [
      "os.path.basename: 0.189388 seconds\n",
      "basename: 0.189388 seconds\n",
      "pathlib.Path.name: 1.115263 seconds\n"
     ]
    }
   ],
   "source": [
    "import os\n",
    "from pathlib import Path\n",
    "import time\n",
    "from os.path import basename\n",
    "\n",
    "# Sample path\n",
    "path = '/home/jovyan/Person-Tailored Gesture Classification/../datasets/SIGGI/full/0_small/075823f53f.jpg'\n",
    "\n",
    "# Number of iterations for testing\n",
    "iterations = 100000\n",
    "\n",
    "# Timing os.path.basename\n",
    "start_time = time.time()\n",
    "for _ in range(iterations):\n",
    "    filename = os.path.basename(path)\n",
    "end_time = time.time()\n",
    "os_time = end_time - start_time\n",
    "\n",
    "# Timing os.path.basename\n",
    "start_time = time.time()\n",
    "for _ in range(iterations):\n",
    "    filename = basename(path)\n",
    "end_time = time.time()\n",
    "os_time_2 = end_time - start_time\n",
    "\n",
    "# Timing Path.name\n",
    "start_time = time.time()\n",
    "for _ in range(iterations):\n",
    "    filename = Path(path).name\n",
    "end_time = time.time()\n",
    "pathlib_time = end_time - start_time\n",
    "\n",
    "print(f\"os.path.basename: {os_time:.6f} seconds\")\n",
    "print(f\"basename: {os_time:.6f} seconds\")\n",
    "print(f\"pathlib.Path.name: {pathlib_time:.6f} seconds\")"
   ]
  },
  {
   "cell_type": "code",
   "execution_count": 5,
   "id": "2d66b5b9-028a-46dd-a66b-2e03b445477d",
   "metadata": {},
   "outputs": [
    {
     "data": {
      "text/plain": [
       "[0, 3, 5, 6]"
      ]
     },
     "execution_count": 5,
     "metadata": {},
     "output_type": "execute_result"
    }
   ],
   "source": [
    "x = [0, 3, 5, 6, 0.8, 'cat']\n",
    "x[0:4]"
   ]
  },
  {
   "cell_type": "code",
   "execution_count": null,
   "id": "ce72d63c-d703-4bd4-b023-b23f7efca986",
   "metadata": {},
   "outputs": [],
   "source": []
  }
 ],
 "metadata": {
  "kernelspec": {
   "display_name": "Python (yolo)",
   "language": "python",
   "name": "yolo"
  },
  "language_info": {
   "codemirror_mode": {
    "name": "ipython",
    "version": 3
   },
   "file_extension": ".py",
   "mimetype": "text/x-python",
   "name": "python",
   "nbconvert_exporter": "python",
   "pygments_lexer": "ipython3",
   "version": "3.10.13"
  }
 },
 "nbformat": 4,
 "nbformat_minor": 5
}
