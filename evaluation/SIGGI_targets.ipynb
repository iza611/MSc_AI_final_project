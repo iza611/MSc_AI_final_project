{
 "cells": [
  {
   "cell_type": "code",
   "execution_count": null,
   "id": "3686e8fc-63d3-4a82-b12f-2ab21984691f",
   "metadata": {},
   "outputs": [],
   "source": [
    "%matplotlib inline"
   ]
  },
  {
   "cell_type": "code",
   "execution_count": null,
   "id": "b05d132c-9610-47d8-8176-07e049ab90d2",
   "metadata": {},
   "outputs": [],
   "source": [
    "%run ./model/yolov7/test.py --data ./data/SIGGI_5.yaml --img 640 --batch 32 --conf 0.747 --iou 0.65 \\\n",
    "--device 0 --weights ./runs/train/SIGGI_5_target_detection4/weights/best.pt --name SIGGI_5_det_test"
   ]
  },
  {
   "cell_type": "code",
   "execution_count": null,
   "id": "8aceeb72-3549-458f-8537-803bdf062d0c",
   "metadata": {},
   "outputs": [],
   "source": [
    "import os\n",
    "from IPython.display import display, Image\n",
    "import matplotlib.pyplot as plt\n",
    "from PIL import Image as PILImage\n",
    "\n",
    "directory = './runs/test/SIGGI_5_det_test' \n",
    "\n",
    "columns =3\n",
    "thumbnail_size = (1000, 1000)\n",
    "\n",
    "files = [f for f in os.listdir(directory) if os.path.isfile(os.path.join(directory, f)) and f.lower().endswith(('jpg', 'jpeg', 'png', 'webp', 'bmp', 'tiff'))]\n",
    "files.sort()\n",
    "\n",
    "rows = (len(files) + columns - 1) // columns\n",
    "fig, axs = plt.subplots(rows, columns, figsize=(columns * 5, rows * 5))\n",
    "axs = axs.flatten()\n",
    "\n",
    "for ax, file in zip(axs, files):\n",
    "    file_path = os.path.join(directory, file)\n",
    "    \n",
    "    with PILImage.open(file_path) as img:\n",
    "        img.thumbnail(thumbnail_size)\n",
    "        ax.imshow(img)\n",
    "        ax.axis('off')\n",
    "        ax.set_title(file, fontsize=10)\n",
    "\n",
    "for ax in axs[len(files):]:\n",
    "    ax.axis('off')\n",
    "\n",
    "plt.tight_layout()\n",
    "plt.show()"
   ]
  }
 ],
 "metadata": {
  "kernelspec": {
   "display_name": "Python (yolo)",
   "language": "python",
   "name": "yolo"
  },
  "language_info": {
   "codemirror_mode": {
    "name": "ipython",
    "version": 3
   },
   "file_extension": ".py",
   "mimetype": "text/x-python",
   "name": "python",
   "nbconvert_exporter": "python",
   "pygments_lexer": "ipython3",
   "version": "3.10.13"
  }
 },
 "nbformat": 4,
 "nbformat_minor": 5
}
