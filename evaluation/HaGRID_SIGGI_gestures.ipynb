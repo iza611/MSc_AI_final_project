{
 "cells": [
  {
   "cell_type": "code",
   "execution_count": null,
   "id": "906b0285-b8de-4581-af97-78518fc1a7c6",
   "metadata": {},
   "outputs": [],
   "source": [
    "MIAP_YAML_PATH = f'./../training/data/MIAP.yaml'\n",
    "WEIGHTS_PATH = f'./../training/runs/train/MIAP_person_detection/weights/best.pt'\n",
    "MIAP_VAL_IMGS_PATH = f\"./../datasets/quali_tests/person_detection/converted\"\n",
    "NAME = 'MIAP'"
   ]
  },
  {
   "cell_type": "code",
   "execution_count": null,
   "id": "61c4a9e2-dc6f-4086-bbee-5bf92883fa4b",
   "metadata": {},
   "outputs": [],
   "source": [
    "%run ./../training/model/yolov7/test.py --data $MIAP_YAML_PATH --img 640 --batch 64 \\\n",
    "--device 0 --weights $WEIGHTS_PATH --name $NAME --v5-metric"
   ]
  },
  {
   "cell_type": "code",
   "execution_count": null,
   "id": "9c2a20ba-6f42-40cb-9649-3a6c4c64b60a",
   "metadata": {},
   "outputs": [],
   "source": [
    "%run ./../training/model/yolov7/detect.py --weights $WEIGHTS_PATH --conf-thres 0.317 \\\n",
    "--img-size 640 --source $MIAP_VAL_IMGS_PATH"
   ]
  }
 ],
 "metadata": {
  "kernelspec": {
   "display_name": "Python (yolo)",
   "language": "python",
   "name": "yolo"
  },
  "language_info": {
   "codemirror_mode": {
    "name": "ipython",
    "version": 3
   },
   "file_extension": ".py",
   "mimetype": "text/x-python",
   "name": "python",
   "nbconvert_exporter": "python",
   "pygments_lexer": "ipython3",
   "version": "3.10.13"
  }
 },
 "nbformat": 4,
 "nbformat_minor": 5
}
