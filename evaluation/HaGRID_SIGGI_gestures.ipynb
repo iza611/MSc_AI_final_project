{
 "cells": [
  {
   "cell_type": "code",
   "execution_count": null,
   "id": "906b0285-b8de-4581-af97-78518fc1a7c6",
   "metadata": {},
   "outputs": [],
   "source": []
  }
 ],
 "metadata": {
  "kernelspec": {
   "display_name": "Python (yolo)",
   "language": "python",
   "name": "yolo"
  },
  "language_info": {
   "codemirror_mode": {
    "name": "ipython",
    "version": 3
   },
   "file_extension": ".py",
   "mimetype": "text/x-python",
   "name": "python",
   "nbconvert_exporter": "python",
   "pygments_lexer": "ipython3",
   "version": "3.10.13"
  }
 },
 "nbformat": 4,
 "nbformat_minor": 5
}
