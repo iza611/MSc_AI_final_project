{
 "cells": [
  {
   "cell_type": "code",
   "execution_count": null,
   "id": "8c47f587-ba61-4bd8-82b2-dd0fb912eaa6",
   "metadata": {},
   "outputs": [],
   "source": [
    "#for each target\n",
    "\n",
    "# load coco gt and preds\n",
    "# calcualte precision etc \n",
    "\n",
    "# calculate average"
   ]
  },
  {
   "cell_type": "code",
   "execution_count": null,
   "id": "6410d114-0d99-4567-8fbc-370b4cc087be",
   "metadata": {},
   "outputs": [],
   "source": [
    "#extract cases where target present & correctly identified\n",
    "# calc. average precision etc"
   ]
  }
 ],
 "metadata": {
  "kernelspec": {
   "display_name": "Python (yolo)",
   "language": "python",
   "name": "yolo"
  },
  "language_info": {
   "codemirror_mode": {
    "name": "ipython",
    "version": 3
   },
   "file_extension": ".py",
   "mimetype": "text/x-python",
   "name": "python",
   "nbconvert_exporter": "python",
   "pygments_lexer": "ipython3",
   "version": "3.10.13"
  }
 },
 "nbformat": 4,
 "nbformat_minor": 5
}
