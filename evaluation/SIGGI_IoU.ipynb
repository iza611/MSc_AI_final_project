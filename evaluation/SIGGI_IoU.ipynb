{
 "cells": [
  {
   "cell_type": "code",
   "execution_count": 242,
   "id": "ebda3035-63b0-4023-821c-6ffc504545e2",
   "metadata": {
    "tags": []
   },
   "outputs": [],
   "source": [
    "target = 6"
   ]
  },
  {
   "cell_type": "markdown",
   "id": "57bf95a4-61ef-4e95-8008-d34273a1144a",
   "metadata": {},
   "source": [
    "### make sure preds and ground truths files match"
   ]
  },
  {
   "cell_type": "code",
   "execution_count": 243,
   "id": "61a70460-9535-46e0-96d1-50d89b841dfc",
   "metadata": {
    "tags": []
   },
   "outputs": [],
   "source": [
    "predictions_path = f'./runs/detect/SIGGI_{target}/labels'\n",
    "ground_truth_path = f'./../datasets/SIGGI/targets/{target}/labels/val'"
   ]
  },
  {
   "cell_type": "code",
   "execution_count": 244,
   "id": "5f5f6d53-639f-4681-80f1-64146391583b",
   "metadata": {
    "tags": []
   },
   "outputs": [
    {
     "name": "stdout",
     "output_type": "stream",
     "text": [
      "61\n",
      "120\n"
     ]
    }
   ],
   "source": [
    "import os\n",
    "\n",
    "all_preds = [f for f in os.listdir(predictions_path) if f.endswith('.txt')]\n",
    "all_gr_truths = [f for f in os.listdir(ground_truth_path) if f.endswith('.txt')]\n",
    "\n",
    "print(len(set(all_preds)))\n",
    "print(len(set(all_gr_truths)))"
   ]
  },
  {
   "cell_type": "code",
   "execution_count": 245,
   "id": "34366166-5b5c-4bdb-ad2a-f40080aeaa48",
   "metadata": {
    "tags": []
   },
   "outputs": [
    {
     "data": {
      "text/plain": [
       "59"
      ]
     },
     "execution_count": 245,
     "metadata": {},
     "output_type": "execute_result"
    }
   ],
   "source": [
    "only_in_gr_truth = set(all_gr_truths) - set(all_preds)\n",
    "len(only_in_gr_truth)"
   ]
  },
  {
   "cell_type": "code",
   "execution_count": 246,
   "id": "c6aa9d17-6e11-4a41-aac5-3f03d2fed2ec",
   "metadata": {
    "tags": []
   },
   "outputs": [],
   "source": [
    "for missing_file in only_in_gr_truth:\n",
    "    open(os.path.join(predictions_path, missing_file), 'w').close()"
   ]
  },
  {
   "cell_type": "code",
   "execution_count": 247,
   "id": "d57d9ec7-670e-4095-92be-4152b0444673",
   "metadata": {
    "tags": []
   },
   "outputs": [
    {
     "data": {
      "text/plain": [
       "120"
      ]
     },
     "execution_count": 247,
     "metadata": {},
     "output_type": "execute_result"
    }
   ],
   "source": [
    "all_preds = [f for f in os.listdir(predictions_path) if f.endswith('.txt')]\n",
    "len(set(all_preds))"
   ]
  },
  {
   "cell_type": "code",
   "execution_count": 248,
   "id": "22bc8941-f047-41d4-8055-8fc79db05b55",
   "metadata": {
    "tags": []
   },
   "outputs": [
    {
     "name": "stdout",
     "output_type": "stream",
     "text": [
      "Files match.\n"
     ]
    }
   ],
   "source": [
    "if all_preds == all_gr_truths:\n",
    "    print(\"Files match.\")\n",
    "else:\n",
    "    print(\"Files do not match.\")"
   ]
  },
  {
   "cell_type": "code",
   "execution_count": 249,
   "id": "3df662e4-9499-4faa-9998-db48ea309bad",
   "metadata": {
    "tags": []
   },
   "outputs": [],
   "source": [
    "all_preds_paths = [os.path.join(predictions_path, f) for f in all_preds]\n",
    "all_preds_paths.sort()\n",
    "all_gr_truths_paths = [os.path.join(ground_truth_path, f) for f in all_gr_truths]\n",
    "all_gr_truths_paths.sort()"
   ]
  },
  {
   "cell_type": "markdown",
   "id": "154aab3e-b3fd-4a13-85c3-0802d95d3d21",
   "metadata": {},
   "source": [
    "### calculate IoU and save"
   ]
  },
  {
   "cell_type": "code",
   "execution_count": 250,
   "id": "10ec0639-2458-4f0c-bcf9-d5e329f81314",
   "metadata": {
    "tags": []
   },
   "outputs": [],
   "source": [
    "def read_yolo_format(file_path):\n",
    "    boxes = []\n",
    "    with open(file_path, 'r') as file:\n",
    "        for line in file:\n",
    "            parts = line.strip().split()\n",
    "            if len(parts) == 5 or len(parts) == 6:  # class, x_center, y_center, width, height [+ confidence]\n",
    "                if len(parts) == 5:\n",
    "                    _, x_center, y_center, width, height = map(float, parts)\n",
    "                    confidence = None\n",
    "                elif len(parts) == 6:\n",
    "                    _, x_center, y_center, width, height, confidence = map(float, parts)\n",
    "                \n",
    "                # Convert to [x1, y1, x2, y2] format\n",
    "                x1 = x_center - width / 2\n",
    "                y1 = y_center - height / 2\n",
    "                x2 = x_center + width / 2\n",
    "                y2 = y_center + height / 2\n",
    "                \n",
    "                boxes.append([x1, y1, x2, y2])\n",
    "    return boxes"
   ]
  },
  {
   "cell_type": "code",
   "execution_count": 251,
   "id": "8c9b70c2-17df-4452-9229-127f6561f508",
   "metadata": {
    "tags": []
   },
   "outputs": [
    {
     "name": "stdout",
     "output_type": "stream",
     "text": [
      "IMG_20230722_104616.txt pred=tensor([[0.5250, 0.3531, 0.5756, 0.5654]]) and truth=tensor([[0., 0., 0., 0.]])\n",
      "IMG_20230722_104707.txt pred=tensor([[0.5336, 0.3373, 0.5728, 0.5637]]) and truth=tensor([[0., 0., 0., 0.]])\n",
      "IMG_20230722_132222.txt pred=tensor([[0., 0., 0., 0.]]) and truth=tensor([[0.5571, 0.3456, 0.6718, 0.7189]])\n",
      "IMG_20230722_132747.txt pred=tensor([[0.3082, 0.4960, 0.3364, 0.5671]]) and truth=tensor([[0.4328, 0.4804, 0.5287, 0.7558]])\n"
     ]
    }
   ],
   "source": [
    "import torch\n",
    "from torchvision.ops import box_iou\n",
    "\n",
    "iou_list = []\n",
    "\n",
    "for pred_file, gr_truth_file in zip(all_preds_paths, all_gr_truths_paths):\n",
    "    predictions = read_yolo_format(pred_file)\n",
    "    ground_truths = read_yolo_format(gr_truth_file)\n",
    "    \n",
    "    if predictions:\n",
    "        predictions_tensor = torch.tensor(predictions)\n",
    "    else:\n",
    "        predictions_tensor = torch.tensor([[0.0, 0.0, 0.0, 0.0]])   # Handle empty predictions case\n",
    "\n",
    "    if ground_truths:\n",
    "        ground_truth_tensor = torch.tensor(ground_truths)   \n",
    "    else:\n",
    "        ground_truth_tensor = torch.tensor([[0.0, 0.0, 0.0, 0.0]])   # Handle empty ground truths case\n",
    "        \n",
    "    # for debugging\n",
    "    predictions_list = predictions_tensor.tolist()\n",
    "    ground_truth_list = ground_truth_tensor.tolist()\n",
    "\n",
    "    for prediction in predictions_tensor:\n",
    "        prediction = prediction.unsqueeze(0)\n",
    "        iou = box_iou(prediction, ground_truth_tensor)\n",
    "        iou_list.extend(iou.numpy().flatten().tolist())\n",
    "        if iou.numpy().flatten().tolist()[0] ==0.0:\n",
    "            print(f'{os.path.basename(pred_file)} pred={prediction} and truth={ground_truth_tensor}')"
   ]
  },
  {
   "cell_type": "code",
   "execution_count": 252,
   "id": "97b37406-c2b6-48f8-a75b-3d6dd0d35e16",
   "metadata": {
    "tags": []
   },
   "outputs": [],
   "source": [
    "file_path = f'./SIGGI_IoU_data/SIGGI_{target}.txt'\n",
    "\n",
    "with open(file_path, 'w') as file:\n",
    "    for iou in iou_list:\n",
    "        file.write(f\"{iou}\\n\")"
   ]
  },
  {
   "cell_type": "code",
   "execution_count": 202,
   "id": "cabf6fe9-7d3c-420a-8cbe-234ec7d52215",
   "metadata": {
    "tags": []
   },
   "outputs": [],
   "source": [
    "# test_path = f'./runs/detect/SIGGI_{target}/labels/IMG_20230722_104517.txt'\n",
    "# test_path2 = f'./../datasets/SIGGI/targets/{target}/labels/val/IMG_20230722_104517.txt'\n",
    "\n",
    "# test = read_yolo_format(test_path)\n",
    "# test2 = read_yolo_format(test_path2)\n",
    "\n",
    "# if predictions:\n",
    "#     predictions_tensor = torch.tensor(predictions)\n",
    "# else:\n",
    "#     predictions_tensor = torch.tensor([[0.0, 0.0, 0.0, 0.0]])   # Handle empty predictions case\n",
    "\n",
    "# if ground_truths:\n",
    "#     ground_truth_tensor = torch.tensor(ground_truths)   \n",
    "# else:\n",
    "#     ground_truth_tensor = torch.tensor([[0.0, 0.0, 0.0, 0.0]])"
   ]
  },
  {
   "cell_type": "code",
   "execution_count": 203,
   "id": "05a2cf72-8b49-4100-ba92-55115b6f4fb4",
   "metadata": {
    "tags": []
   },
   "outputs": [],
   "source": [
    "# ground_truths"
   ]
  },
  {
   "cell_type": "code",
   "execution_count": 204,
   "id": "d72afa2f-8b79-4787-801e-58eda0460b61",
   "metadata": {
    "tags": []
   },
   "outputs": [],
   "source": [
    "# predictions_tensor"
   ]
  },
  {
   "cell_type": "markdown",
   "id": "d4eb83d0-c6a7-4117-8298-1770555ac034",
   "metadata": {},
   "source": [
    "### load all data and plot histograms"
   ]
  },
  {
   "cell_type": "code",
   "execution_count": 23,
   "id": "8f2431e8-3698-4dd4-88a2-a519ea765a8c",
   "metadata": {},
   "outputs": [],
   "source": [
    "from numpy import isnan\n",
    "\n",
    "data_lists = []\n",
    "for t in range(7):\n",
    "    file_path = f'./SIGGI_IoU_data/SIGGI_{t}.txt'\n",
    "    \n",
    "    iou_list = []\n",
    "\n",
    "    with open(file_path, 'r') as file:\n",
    "        for line in file:\n",
    "            iou = float(line.strip())\n",
    "            if not isnan(iou) and iou > 0:\n",
    "                iou_list.append(iou)\n",
    "            \n",
    "    data_lists.append(iou_list)"
   ]
  },
  {
   "cell_type": "code",
   "execution_count": 39,
   "id": "953ede16-7931-4e2b-a704-fba37fda8fe5",
   "metadata": {
    "tags": []
   },
   "outputs": [
    {
     "data": {
      "image/png": "[encoded data removed]",
      "text/plain": [
       "<Figure size 1300x600 with 7 Axes>"
      ]
     },
     "metadata": {},
     "output_type": "display_data"
    }
   ],
   "source": [
    "from matplotlib import pyplot as plt\n",
    "# data_lists = [iou_list,iou_list,iou_list,iou_list,iou_list,iou_list,iou_list]\n",
    "titles = ['SIGGI_0', 'SIGGI_1', 'SIGGI_2', 'SIGGI_3', 'SIGGI_4', 'SIGGI_5', 'SIGGI_6']\n",
    "colors = ['#0000FF', '#FF1493', '#66CDAA', '#00FF00', '#030303', '#FFA500', '#1E90FF']\n",
    "colors = ['#0000CC', '#E01282', '#5AB397', '#00CC00', '#020202', '#CC8400', '#1A7ACC']\n",
    "# ranges = [(0.4, 1.0), (0.6, 1.0), (0.6, 1.0), (0.6, 1.0), (0.3, 1.0), (0.3, 1.0), (0.2, 1.0)]\n",
    "num_histograms = len(data_lists)\n",
    "# num_columns = 7\n",
    "num_columns_first_row = 4\n",
    "num_columns_second_row = 3\n",
    "\n",
    "plt.figure(figsize=(13,6))\n",
    "f=17\n",
    "\n",
    "for i in range(num_columns_first_row):\n",
    "    plt.subplot(2, num_columns_first_row, i+1)\n",
    "    plt.hist(data_lists[i], bins=50, range=(0.4, 1.0), alpha=1, color=colors[i], edgecolor=colors[i], orientation='vertical')\n",
    "    # plt.title(titles[i], color=colors[i])\n",
    "    # plt.xlabel('Frequency')\n",
    "    if i==0:\n",
    "        plt.ylabel('Frequency', fontsize=f)\n",
    "    \n",
    "for i in range(num_columns_second_row):\n",
    "    plt.subplot(2, num_columns_second_row, num_columns_first_row+i)\n",
    "    plt.hist(data_lists[num_columns_first_row+i], bins=50, range=(0.15, 1.0), alpha=1, color=colors[num_columns_first_row+i], edgecolor=colors[num_columns_first_row+i], orientation='vertical')\n",
    "    # plt.title(titles[num_columns_first_row+i], color=colors[num_columns_first_row+i])\n",
    "    plt.xlabel('IoU', fontsize=f)\n",
    "    if i==0:\n",
    "        plt.ylabel('Frequency', fontsize=f)\n",
    "\n",
    "plt.show()"
   ]
  },
  {
   "cell_type": "code",
   "execution_count": null,
   "id": "3ca73ba5-32dd-4082-b676-85219fc8c0ec",
   "metadata": {},
   "outputs": [],
   "source": []
  }
 ],
 "metadata": {
  "kernelspec": {
   "display_name": "Python (base)",
   "language": "python",
   "name": "base"
  },
  "language_info": {
   "codemirror_mode": {
    "name": "ipython",
    "version": 3
   },
   "file_extension": ".py",
   "mimetype": "text/x-python",
   "name": "python",
   "nbconvert_exporter": "python",
   "pygments_lexer": "ipython3",
   "version": "3.10.13"
  }
 },
 "nbformat": 4,
 "nbformat_minor": 5
}
