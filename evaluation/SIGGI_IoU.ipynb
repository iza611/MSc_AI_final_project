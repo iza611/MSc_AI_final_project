{
 "cells": [
  {
   "cell_type": "code",
   "execution_count": 3,
   "id": "ebda3035-63b0-4023-821c-6ffc504545e2",
   "metadata": {
    "tags": []
   },
   "outputs": [],
   "source": [
    "target = 0"
   ]
  },
  {
   "cell_type": "markdown",
   "id": "57bf95a4-61ef-4e95-8008-d34273a1144a",
   "metadata": {},
   "source": [
    "fill out missing empty files where no target detected for predictions"
   ]
  },
  {
   "cell_type": "code",
   "execution_count": 4,
   "id": "61a70460-9535-46e0-96d1-50d89b841dfc",
   "metadata": {
    "tags": []
   },
   "outputs": [],
   "source": [
    "predictions_path = f'./runs/detect/SIGGI_{target}/labels'\n",
    "ground_truth_path = f'./../datasets/SIGGI/targets/{target}/labels/val'"
   ]
  },
  {
   "cell_type": "code",
   "execution_count": 12,
   "id": "5f5f6d53-639f-4681-80f1-64146391583b",
   "metadata": {
    "tags": []
   },
   "outputs": [
    {
     "name": "stdout",
     "output_type": "stream",
     "text": [
      "62\n",
      "120\n"
     ]
    }
   ],
   "source": [
    "import os\n",
    "\n",
    "all_preds = [f for f in os.listdir(predictions_path) if f.endswith('.txt')]\n",
    "all_gr_truths = [f for f in os.listdir(ground_truth_path) if f.endswith('.txt')]\n",
    "\n",
    "print(len(set(all_preds)))\n",
    "print(len(set(all_gr_truths)))"
   ]
  },
  {
   "cell_type": "code",
   "execution_count": 16,
   "id": "34366166-5b5c-4bdb-ad2a-f40080aeaa48",
   "metadata": {
    "tags": []
   },
   "outputs": [
    {
     "data": {
      "text/plain": [
       "58"
      ]
     },
     "execution_count": 16,
     "metadata": {},
     "output_type": "execute_result"
    }
   ],
   "source": [
    "only_in_gr_truth = set(all_gr_truths) - set(all_preds)\n",
    "len(only_in_gr_truth)"
   ]
  },
  {
   "cell_type": "code",
   "execution_count": 17,
   "id": "c6aa9d17-6e11-4a41-aac5-3f03d2fed2ec",
   "metadata": {
    "tags": []
   },
   "outputs": [],
   "source": [
    "for missing_file in only_in_gr_truth:\n",
    "    open(os.path.join(predictions_path, missing_file), 'w').close()"
   ]
  },
  {
   "cell_type": "code",
   "execution_count": 19,
   "id": "d57d9ec7-670e-4095-92be-4152b0444673",
   "metadata": {
    "tags": []
   },
   "outputs": [
    {
     "data": {
      "text/plain": [
       "120"
      ]
     },
     "execution_count": 19,
     "metadata": {},
     "output_type": "execute_result"
    }
   ],
   "source": [
    "all_preds = [f for f in os.listdir(predictions_path) if f.endswith('.txt')]\n",
    "len(set(all_preds))"
   ]
  },
  {
   "cell_type": "code",
   "execution_count": 20,
   "id": "22bc8941-f047-41d4-8055-8fc79db05b55",
   "metadata": {
    "tags": []
   },
   "outputs": [
    {
     "name": "stdout",
     "output_type": "stream",
     "text": [
      "Files match.\n"
     ]
    }
   ],
   "source": [
    "if all_preds == all_gr_truths:\n",
    "    print(\"Files match.\")\n",
    "else:\n",
    "    print(\"Files do not match.\")"
   ]
  },
  {
   "cell_type": "markdown",
   "id": "154aab3e-b3fd-4a13-85c3-0802d95d3d21",
   "metadata": {},
   "source": [
    "now calculate IoUs and GIoUs"
   ]
  },
  {
   "cell_type": "code",
   "execution_count": 31,
   "id": "10ec0639-2458-4f0c-bcf9-d5e329f81314",
   "metadata": {
    "tags": []
   },
   "outputs": [],
   "source": [
    "def read_yolo_format(file_path):\n",
    "    boxes = []\n",
    "    with open(file_path, 'r') as file:\n",
    "        for line in file:\n",
    "            parts = line.strip().split()\n",
    "            if len(parts) == 5 or len(parts) == 6:  # class, x_center, y_center, width, height [+ confidence]\n",
    "                if len(parts) == 5:\n",
    "                    _, x_center, y_center, width, height = map(float, parts)\n",
    "                    confidence = None\n",
    "                elif len(parts) == 6:\n",
    "                    _, x_center, y_center, width, height, confidence = map(float, parts)\n",
    "                \n",
    "                # Convert to [x1, y1, x2, y2] format\n",
    "                x1 = x_center - width / 2\n",
    "                y1 = y_center - height / 2\n",
    "                x2 = x_center + width / 2\n",
    "                y2 = y_center + height / 2\n",
    "                \n",
    "                boxes.append([x1, y1, x2, y2])\n",
    "    return boxes"
   ]
  },
  {
   "cell_type": "code",
   "execution_count": 32,
   "id": "3df662e4-9499-4faa-9998-db48ea309bad",
   "metadata": {
    "tags": []
   },
   "outputs": [],
   "source": [
    "all_preds_paths = [os.path.join(predictions_path, f) for f in all_preds]\n",
    "all_preds_paths.sort()\n",
    "all_gr_truths_paths = [os.path.join(ground_truth_path, f) for f in all_gr_truths]\n",
    "all_gr_truths_paths.sort()"
   ]
  },
  {
   "cell_type": "code",
   "execution_count": 35,
   "id": "427aa1dc-07ff-4632-b99a-f0ce7b16c429",
   "metadata": {
    "tags": []
   },
   "outputs": [
    {
     "name": "stdout",
     "output_type": "stream",
     "text": [
      "usage: conda [-h] [-v] [--no-plugins] [-V] COMMAND ...\n",
      "conda: error: argument COMMAND: invalid choice: 'activate' (choose from 'clean', 'compare', 'config', 'create', 'info', 'init', 'install', 'list', 'notices', 'package', 'remove', 'uninstall', 'rename', 'run', 'search', 'update', 'upgrade', 'doctor', 'env')\n"
     ]
    }
   ],
   "source": [
    "!conda activate jupyterlab-debugger"
   ]
  },
  {
   "cell_type": "code",
   "execution_count": 57,
   "id": "8c9b70c2-17df-4452-9229-127f6561f508",
   "metadata": {
    "tags": []
   },
   "outputs": [],
   "source": [
    "import torch\n",
    "from torchvision.ops import box_iou, generalized_box_iou\n",
    "\n",
    "iou_list = []\n",
    "giou_list = []\n",
    "\n",
    "for pred_file, gr_truth_file in zip(all_preds_paths, all_gr_truths_paths):\n",
    "    predictions = read_yolo_format(pred_file)\n",
    "    ground_truths = read_yolo_format(gr_truth_file)\n",
    "    \n",
    "    if predictions:\n",
    "        predictions_tensor = torch.tensor(predictions)\n",
    "    else:\n",
    "        predictions_tensor = torch.empty((0, 4))   # Handle empty predictions case\n",
    "\n",
    "    if ground_truths:\n",
    "        ground_truth_tensor = torch.tensor(ground_truths)   \n",
    "    else:\n",
    "        ground_truth_tensor = torch.empty((0, 4))   # Handle empty ground truths case\n",
    "        \n",
    "    # for debugging\n",
    "    predictions_list = predictions_tensor.tolist()\n",
    "    ground_truth_list = ground_truth_tensor.tolist()\n",
    "\n",
    "    for prediction in predictions_tensor:\n",
    "        prediction = prediction.unsqueeze(0)\n",
    "        iou = box_iou(prediction, ground_truth_tensor)\n",
    "        giou = generalized_box_iou(prediction, ground_truth_tensor)\n",
    "        iou_list.extend(iou.numpy().flatten().tolist())\n",
    "        giou_list.extend(giou.numpy().flatten().tolist())"
   ]
  },
  {
   "cell_type": "code",
   "execution_count": 130,
   "id": "97b37406-c2b6-48f8-a75b-3d6dd0d35e16",
   "metadata": {
    "tags": []
   },
   "outputs": [
    {
     "data": {
      "text/plain": [
       "[0.9242565035820007,\n",
       " 0.892663836479187,\n",
       " 0.7454383969306946,\n",
       " 0.8426376581192017,\n",
       " 0.9508058428764343,\n",
       " 0.8685008883476257,\n",
       " 0.5790491104125977,\n",
       " 0.9539273977279663,\n",
       " 0.9028513431549072,\n",
       " 0.9137369990348816,\n",
       " 0.9099195003509521,\n",
       " 0.6978510022163391,\n",
       " 0.7932738065719604,\n",
       " 0.46474069356918335,\n",
       " 0.7102133631706238,\n",
       " 0.9395812153816223,\n",
       " 0.9433336853981018,\n",
       " 0.7278780341148376,\n",
       " 0.878048300743103,\n",
       " 0.9678182005882263,\n",
       " 0.9295474886894226,\n",
       " 0.9631004929542542,\n",
       " 0.9344300031661987,\n",
       " 0.929855227470398,\n",
       " 0.9149542450904846,\n",
       " 0.9745522737503052,\n",
       " 0.9724975228309631,\n",
       " 0.9030038118362427,\n",
       " 0.970917820930481,\n",
       " 0.8488744497299194,\n",
       " 0.9858248829841614,\n",
       " 0.9501160383224487,\n",
       " 0.9820380210876465,\n",
       " 0.9687333106994629,\n",
       " 0.9457850456237793,\n",
       " 0.9450052380561829,\n",
       " 0.9819778800010681,\n",
       " 0.9789494872093201,\n",
       " 0.9080080389976501,\n",
       " 0.9736151695251465,\n",
       " 0.7596917152404785,\n",
       " 0.7178624272346497,\n",
       " 0.908385694026947,\n",
       " 0.9041147232055664,\n",
       " 0.7855697870254517,\n",
       " 0.8617674112319946,\n",
       " 0.9011812806129456,\n",
       " 0.9556268453598022,\n",
       " 0.9635717272758484,\n",
       " 0.9763793349266052,\n",
       " 0.9612467288970947,\n",
       " 0.9064393043518066,\n",
       " 0.9206506013870239,\n",
       " 0.9284072518348694,\n",
       " 0.9556553363800049,\n",
       " 0.8064603209495544,\n",
       " 0.9506633877754211,\n",
       " 0.9640341401100159,\n",
       " 0.9469459652900696,\n",
       " 0.8445286750793457,\n",
       " 0.8624899387359619]"
      ]
     },
     "execution_count": 130,
     "metadata": {},
     "output_type": "execute_result"
    }
   ],
   "source": [
    "iou_list"
   ]
  },
  {
   "cell_type": "code",
   "execution_count": 129,
   "id": "953ede16-7931-4e2b-a704-fba37fda8fe5",
   "metadata": {
    "tags": []
   },
   "outputs": [
    {
     "data": {
      "image/png": "[encoded data removed]",
      "text/plain": [
       "<Figure size 1200x500 with 7 Axes>"
      ]
     },
     "metadata": {},
     "output_type": "display_data"
    }
   ],
   "source": [
    "data_lists = [iou_list,iou_list,iou_list,iou_list,iou_list,iou_list,iou_list]\n",
    "titles = ['SIGGI_0', 'SIGGI_1', 'SIGGI_2', 'SIGGI_3', 'SIGGI_4', 'SIGGI_5', 'SIGGI_6']\n",
    "colors = ['#0000FF', '#FF1493', '#66CDAA', '#00FF00', '#030303', '#FFA500', '#1E90FF']\n",
    "\n",
    "num_histograms = len(data_lists)\n",
    "# num_columns = 7\n",
    "num_columns_first_row = 4\n",
    "num_columns_second_row = 3\n",
    "\n",
    "plt.figure(figsize=(12,5))\n",
    "f=17\n",
    "\n",
    "for i in range(num_columns_first_row):\n",
    "    plt.subplot(2, num_columns_first_row, i+1)\n",
    "    plt.hist(data_lists[i], bins=50, range=(0.4, 1), alpha=1, color=colors[i], edgecolor=colors[i], orientation='horizontal')\n",
    "    # plt.title(titles[i], color=colors[i])\n",
    "    # plt.xlabel('Frequency')\n",
    "    if i==0:\n",
    "        plt.ylabel('IoU', fontsize=f)\n",
    "    \n",
    "for i in range(num_columns_second_row):\n",
    "    plt.subplot(2, num_columns_second_row, num_columns_first_row+i)\n",
    "    plt.hist(data_lists[num_columns_first_row+i], bins=50, range=(0.4, 1), alpha=1, color=colors[num_columns_first_row+i], edgecolor=colors[num_columns_first_row+i], orientation='horizontal')\n",
    "    # plt.title(titles[num_columns_first_row+i], color=colors[num_columns_first_row+i])\n",
    "    plt.xlabel('Frequency', fontsize=f)\n",
    "    if i==0:\n",
    "        plt.ylabel('IoU', fontsize=f)\n",
    "\n",
    "plt.show()"
   ]
  },
  {
   "cell_type": "code",
   "execution_count": null,
   "id": "3ca73ba5-32dd-4082-b676-85219fc8c0ec",
   "metadata": {},
   "outputs": [],
   "source": []
  }
 ],
 "metadata": {
  "kernelspec": {
   "display_name": "Python (base)",
   "language": "python",
   "name": "base"
  },
  "language_info": {
   "codemirror_mode": {
    "name": "ipython",
    "version": 3
   },
   "file_extension": ".py",
   "mimetype": "text/x-python",
   "name": "python",
   "nbconvert_exporter": "python",
   "pygments_lexer": "ipython3",
   "version": "3.10.13"
  }
 },
 "nbformat": 4,
 "nbformat_minor": 5
}
