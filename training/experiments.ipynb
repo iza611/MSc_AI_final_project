{
 "cells": [
  {
   "cell_type": "markdown",
   "id": "19c5819a-8ad5-4bbb-958e-94adc907c624",
   "metadata": {},
   "source": [
    "# Base"
   ]
  },
  {
   "cell_type": "code",
   "execution_count": null,
   "id": "46f9ffcd-9bc8-47d7-95ff-cfd4f57f8928",
   "metadata": {},
   "outputs": [],
   "source": [
    "SIGGI_5_yaml_path = './data/SIGGI_5.yaml'\n",
    "YOLOv7tiny_yaml_path = './model/yolov7-tiny.yaml'\n",
    "YOLOv7tiny_weights_path = './runs/train/MIAP_person_detection/weights/best.pt'\n",
    "YOLOv7tiny_hyp_path = './model/yolov7/data/hyp.scratch.tiny.yaml'"
   ]
  },
  {
   "cell_type": "code",
   "execution_count": null,
   "id": "83ce7faa-6b5d-4968-95bb-ce7f916bbfd0",
   "metadata": {},
   "outputs": [],
   "source": [
    "%run ./model/yolov7/train.py --epochs 100 --workers 4 --device 0 --batch-size 32 \\\n",
    "--data $SIGGI_5_yaml_path --img 640 640 --cfg $YOLOv7tiny_yaml_path \\\n",
    "--weights $YOLOv7tiny_weights_path --name SIGGI_basic --hyp $YOLOv7tiny_hyp_path \\\n",
    "--project 'runs/train/experiments' --early-stop"
   ]
  },
  {
   "cell_type": "markdown",
   "id": "b5e48e6e-4f74-44bf-b0ac-3227184e3dd9",
   "metadata": {},
   "source": [
    "# Batch Size"
   ]
  },
  {
   "cell_type": "code",
   "execution_count": null,
   "id": "7e1edb33-2d06-4726-85ad-c5aa5709e234",
   "metadata": {},
   "outputs": [],
   "source": []
  },
  {
   "cell_type": "markdown",
   "id": "31e9035d-a498-49c1-9a13-1cd51b2c95b3",
   "metadata": {},
   "source": [
    "# Learning Rate"
   ]
  },
  {
   "cell_type": "code",
   "execution_count": null,
   "id": "f75ea913-ab5a-416e-9917-23cb4dd0e766",
   "metadata": {},
   "outputs": [],
   "source": []
  },
  {
   "cell_type": "markdown",
   "id": "121c50d2-e105-4e98-afe8-df6eac575592",
   "metadata": {},
   "source": [
    "# Freezing Layers"
   ]
  },
  {
   "cell_type": "code",
   "execution_count": null,
   "id": "6d5aeac7-b24c-48d7-bea0-a47dde54de5f",
   "metadata": {},
   "outputs": [],
   "source": []
  },
  {
   "cell_type": "markdown",
   "id": "1cc693a8-f82b-44d5-9535-a2293f330138",
   "metadata": {},
   "source": [
    "# Image Size"
   ]
  },
  {
   "cell_type": "code",
   "execution_count": null,
   "id": "ec4e5c11-6aad-47c7-86e7-290101264d66",
   "metadata": {},
   "outputs": [],
   "source": []
  },
  {
   "cell_type": "markdown",
   "id": "48f4d9a2-e4dc-4943-8bfd-2e9ed7326d7b",
   "metadata": {},
   "source": [
    "# Train Ratio"
   ]
  },
  {
   "cell_type": "code",
   "execution_count": null,
   "id": "0487fe4f-db35-400f-bd04-46836d2f9682",
   "metadata": {},
   "outputs": [],
   "source": []
  }
 ],
 "metadata": {
  "kernelspec": {
   "display_name": "Python (yolo)",
   "language": "python",
   "name": "yolo"
  },
  "language_info": {
   "codemirror_mode": {
    "name": "ipython",
    "version": 3
   },
   "file_extension": ".py",
   "mimetype": "text/x-python",
   "name": "python",
   "nbconvert_exporter": "python",
   "pygments_lexer": "ipython3",
   "version": "3.10.13"
  }
 },
 "nbformat": 4,
 "nbformat_minor": 5
}
