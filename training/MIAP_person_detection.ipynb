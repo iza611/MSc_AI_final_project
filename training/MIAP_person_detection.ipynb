{
 "cells": [
  {
   "cell_type": "code",
   "execution_count": null,
   "id": "f8e947ae-0fc6-47c3-a48c-507528f1e55c",
   "metadata": {
    "tags": []
   },
   "outputs": [],
   "source": [
    "MIAP_yaml_path = './data/MIAP.yaml'\n",
    "YOLOv7tiny_yaml_path = './model/yolov7-tiny.yaml'\n",
    "YOLOv7tiny_weights_path = './model/yolov7-tiny.pt'\n",
    "YOLOv7tiny_hyp_path = './model/yolov7/data/hyp.scratch.tiny.yaml'"
   ]
  },
  {
   "cell_type": "code",
   "execution_count": null,
   "id": "fb03295d-015f-4396-869c-093826c26a16",
   "metadata": {
    "tags": []
   },
   "outputs": [],
   "source": [
    "%run ./model/yolov7/train.py --epochs 100 --workers 4 --device 0 --batch-size 32 \\\n",
    "--data $MIAP_yaml_path --img 640 640 --cfg $YOLOv7tiny_yaml_path \\\n",
    "--weights $YOLOv7tiny_weights_path --name MIAP_person_detection --hyp $YOLOv7tiny_hyp_path"
   ]
  },
  {
   "cell_type": "code",
   "execution_count": null,
   "id": "aed5c8a7-97ba-4808-84e8-3e5294a43c56",
   "metadata": {
    "tags": []
   },
   "outputs": [],
   "source": [
    "%run ./model/yolov7/train.py --resume True --epochs 100 --workers 4 --device 0 --batch-size 32 \\\n",
    "--data $MIAP_yaml_path --img 640 640 --cfg $YOLOv7tiny_yaml_path \\\n",
    "--weights $YOLOv7tiny_weights_path --name MIAP_person_detection --hyp $YOLOv7tiny_hyp_path"
   ]
  },
  {
   "cell_type": "code",
   "execution_count": null,
   "id": "fc08ec45-3e6f-48e1-9c0b-18e949f946e3",
   "metadata": {},
   "outputs": [],
   "source": []
  }
 ],
 "metadata": {
  "kernelspec": {
   "display_name": "Python (yolo)",
   "language": "python",
   "name": "yolo"
  },
  "language_info": {
   "codemirror_mode": {
    "name": "ipython",
    "version": 3
   },
   "file_extension": ".py",
   "mimetype": "text/x-python",
   "name": "python",
   "nbconvert_exporter": "python",
   "pygments_lexer": "ipython3",
   "version": "3.10.13"
  }
 },
 "nbformat": 4,
 "nbformat_minor": 5
}
