{
 "cells": [
  {
   "cell_type": "code",
   "execution_count": 1,
   "id": "51613aa7-8086-4822-a319-fa45c3c3f1b8",
   "metadata": {
    "tags": []
   },
   "outputs": [
    {
     "data": {
      "text/plain": [
       "['download.jpg',\n",
       " 'braz-yano-fw-2010-155-a_940.jpg',\n",
       " 'images_1_PIC_1-G-2490-12.webp',\n",
       " 'airbus-helicopters-4-gq-3jun15-pr_b.webp',\n",
       " '0061dd10-c846-4858-88a1-63ca20a6526d.webp',\n",
       " 'Hawking_1.webp',\n",
       " 'unnamed-7.jpg',\n",
       " 'maxresdefault-1024x576.jpg',\n",
       " 'women-wearing-traditional-dress-mountain-people-minority-in-china-DGWKX3.jpg',\n",
       " 'Breaking-in.webp',\n",
       " '359b0d5f84ca4646bc9f2fa7cc644dee.webp',\n",
       " 'family-vacation-1600x900.avif',\n",
       " '4188620_1200x.webp',\n",
       " 'Enigme hobbit 500px.png',\n",
       " 'Mad-Max-Fury-Road-sci-fi.jpg',\n",
       " 'hqdefault.jpg',\n",
       " '_105815803_mandarincut.jpg.webp',\n",
       " 'sad-lonely-woman-lying-bed-footage-103520517_iconl.webp',\n",
       " 'gettyimages-868820990-h_2017.webp',\n",
       " 'apollo16a-1280x720.jpg',\n",
       " 'TANGLED-1-articleLarge.jpg',\n",
       " 'unzipped_photo1_photo1phone.jpg',\n",
       " '89233_wilkin.jpg',\n",
       " 'divers-bends-air-surface-gas-bubbles-tissues.webp',\n",
       " 'images.jpg',\n",
       " 'img-4427-857902.jpg',\n",
       " 'Real-cases-of-children-raised-by-wild-animals-960x640.jpg',\n",
       " 'Open-Streets.jpg',\n",
       " 'maxresdefault.jpg',\n",
       " '22012363-large-group-of-business-people-over-white-background.jpg',\n",
       " 'sc01muilhoz31.jpg',\n",
       " 'cyrk-f-1513156245.jpg',\n",
       " 'scuba_dive_asthma_1296x728_header-1024x575.webp',\n",
       " 'book1page1part1.png',\n",
       " 'halloween-events-in-boston-the-boston-common-costume-dash-5k_900xx1024-576-0-51.jpg',\n",
       " '0x0.webp',\n",
       " 'stuart-little.jpg',\n",
       " '960x0.webp',\n",
       " 'Image_1-15.jpeg',\n",
       " 'gf-2LB8-bD81-bdDi_muminki-wracaja-664x442.jpg',\n",
       " 'mvnu-online-how-to-get-your-dream-job.jpeg',\n",
       " 'sewing-machine2x1500-850x563.jpg',\n",
       " '2019-07-19-ss-jm-basecamp-activities-0008-jpg.jpg',\n",
       " '7c0e76c2d8cd4ee199d668b4c3fb240a.webp',\n",
       " 'Safran-Parachutes_01.jpg',\n",
       " 'kindergarten-504672_19201.webp',\n",
       " 'img1.jpg']"
      ]
     },
     "execution_count": 1,
     "metadata": {},
     "output_type": "execute_result"
    }
   ],
   "source": [
    "import os\n",
    "from PIL import Image\n",
    "import shutil\n",
    "\n",
    "directory = './../datasets/quali_tests/person_detection'\n",
    "output_dir = os.path.join(directory, 'converted')\n",
    "if not os.path.exists(output_dir):\n",
    "    os.makedirs(output_dir)\n",
    "    \n",
    "files = [f for f in os.listdir(directory) if os.path.isfile(os.path.join(directory, f))]\n",
    "files"
   ]
  },
  {
   "cell_type": "code",
   "execution_count": 2,
   "id": "72310002-6441-4591-af28-5549a581043f",
   "metadata": {
    "tags": []
   },
   "outputs": [
    {
     "name": "stdout",
     "output_type": "stream",
     "text": [
      "Converted download.jpg to img1.jpg\n",
      "Converted braz-yano-fw-2010-155-a_940.jpg to img2.jpg\n",
      "Converted images_1_PIC_1-G-2490-12.webp to img3.jpg\n",
      "Converted airbus-helicopters-4-gq-3jun15-pr_b.webp to img4.jpg\n",
      "Converted 0061dd10-c846-4858-88a1-63ca20a6526d.webp to img5.jpg\n",
      "Converted Hawking_1.webp to img6.jpg\n",
      "Converted unnamed-7.jpg to img7.jpg\n",
      "Converted maxresdefault-1024x576.jpg to img8.jpg\n",
      "Converted women-wearing-traditional-dress-mountain-people-minority-in-china-DGWKX3.jpg to img9.jpg\n",
      "Converted Breaking-in.webp to img10.jpg\n",
      "Converted 359b0d5f84ca4646bc9f2fa7cc644dee.webp to img11.jpg\n",
      "Failed to convert family-vacation-1600x900.avif: cannot identify image file '/home/jovyan/datasets/quali_tests/person_detection/family-vacation-1600x900.avif'\n",
      "Converted 4188620_1200x.webp to img12.jpg\n",
      "Converted Enigme hobbit 500px.png to img13.jpg\n",
      "Converted Mad-Max-Fury-Road-sci-fi.jpg to img14.jpg\n",
      "Converted hqdefault.jpg to img15.jpg\n",
      "Converted _105815803_mandarincut.jpg.webp to img16.jpg\n",
      "Converted sad-lonely-woman-lying-bed-footage-103520517_iconl.webp to img17.jpg\n",
      "Converted gettyimages-868820990-h_2017.webp to img18.jpg\n",
      "Converted apollo16a-1280x720.jpg to img19.jpg\n",
      "Converted TANGLED-1-articleLarge.jpg to img20.jpg\n",
      "Converted unzipped_photo1_photo1phone.jpg to img21.jpg\n",
      "Converted 89233_wilkin.jpg to img22.jpg\n",
      "Converted divers-bends-air-surface-gas-bubbles-tissues.webp to img23.jpg\n",
      "Converted images.jpg to img24.jpg\n",
      "Converted img-4427-857902.jpg to img25.jpg\n",
      "Converted Real-cases-of-children-raised-by-wild-animals-960x640.jpg to img26.jpg\n",
      "Converted Open-Streets.jpg to img27.jpg\n",
      "Converted maxresdefault.jpg to img28.jpg\n",
      "Converted 22012363-large-group-of-business-people-over-white-background.jpg to img29.jpg\n",
      "Converted sc01muilhoz31.jpg to img30.jpg\n",
      "Converted cyrk-f-1513156245.jpg to img31.jpg\n",
      "Converted scuba_dive_asthma_1296x728_header-1024x575.webp to img32.jpg\n",
      "Converted book1page1part1.png to img33.jpg\n",
      "Converted halloween-events-in-boston-the-boston-common-costume-dash-5k_900xx1024-576-0-51.jpg to img34.jpg\n",
      "Converted 0x0.webp to img35.jpg\n",
      "Converted stuart-little.jpg to img36.jpg\n",
      "Converted 960x0.webp to img37.jpg\n",
      "Converted Image_1-15.jpeg to img38.jpg\n",
      "Converted gf-2LB8-bD81-bdDi_muminki-wracaja-664x442.jpg to img39.jpg\n",
      "Converted mvnu-online-how-to-get-your-dream-job.jpeg to img40.jpg\n",
      "Converted sewing-machine2x1500-850x563.jpg to img41.jpg\n",
      "Converted 2019-07-19-ss-jm-basecamp-activities-0008-jpg.jpg to img42.jpg\n",
      "Converted 7c0e76c2d8cd4ee199d668b4c3fb240a.webp to img43.jpg\n",
      "Converted Safran-Parachutes_01.jpg to img44.jpg\n",
      "Converted kindergarten-504672_19201.webp to img45.jpg\n",
      "Converted img1.jpg to img46.jpg\n"
     ]
    }
   ],
   "source": [
    "img_counter = 1\n",
    "\n",
    "for file in files:\n",
    "    file_path = os.path.join(directory, file)\n",
    "    file_name, file_extension = os.path.splitext(file)\n",
    "        \n",
    "    try:\n",
    "        with Image.open(file_path) as img:\n",
    "            img = img.convert('RGB')\n",
    "            new_file_name = f'img{img_counter}.jpg'\n",
    "            new_file_path = os.path.join(output_dir, new_file_name)\n",
    "            img.save(new_file_path, 'JPEG')\n",
    "            print(f'Converted {file} to {new_file_name}')\n",
    "            img_counter += 1\n",
    "    except Exception as e:\n",
    "        print(f'Failed to convert {file}: {e}')"
   ]
  },
  {
   "cell_type": "code",
   "execution_count": null,
   "id": "7070164a-6ce6-474d-8a11-4ee4e76ef52a",
   "metadata": {},
   "outputs": [],
   "source": []
  }
 ],
 "metadata": {
  "kernelspec": {
   "display_name": "Python (base)",
   "language": "python",
   "name": "base"
  },
  "language_info": {
   "codemirror_mode": {
    "name": "ipython",
    "version": 3
   },
   "file_extension": ".py",
   "mimetype": "text/x-python",
   "name": "python",
   "nbconvert_exporter": "python",
   "pygments_lexer": "ipython3",
   "version": "3.10.13"
  }
 },
 "nbformat": 4,
 "nbformat_minor": 5
}
