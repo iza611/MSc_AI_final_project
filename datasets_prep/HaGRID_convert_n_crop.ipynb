{
 "cells": [
  {
   "cell_type": "code",
   "execution_count": null,
   "id": "43fc43d0-fcc5-4620-b828-93ae40dce9fa",
   "metadata": {},
   "outputs": [],
   "source": [
    "import cv2\n",
    "import albumentations as A\n",
    "\n",
    "# Define the transformation\n",
    "def crop_n_transform(image_path, human_bbox, hand_bboxes):\n",
    "    x1, y1, x2, y2 = human_bbox\n",
    "    transform = A.Compose([\n",
    "        A.Crop(x_min=x1, y_min=y1, x_max=x2, y_max=y2, p=1.0),\n",
    "    ])\n",
    "    \n",
    "    # Convert bounding boxes to the required format\n",
    "    bboxes = [[x1, y1, x2, y2] for (hx1, hy1, hx2, hy2) in hand_bboxes]\n",
    "    \n",
    "    # load image from path\n",
    "    \n",
    "    # Apply the transformation\n",
    "    transformed = transform(image=image, bboxes=bboxes)\n",
    "    return transformed['image'], transformed['bboxes']\n",
    "\n",
    "for filename, data in combined_dict.items():\n",
    "    human_bbx = data['human_bbx']\n",
    "    gestures_bbxs = data['gestures_bbxs']\n",
    "    image = data['image']\n",
    "    \n",
    "    crop_and_transform()\n",
    "    xyxy_to_xywh()\n",
    "    save()"
   ]
  }
 ],
 "metadata": {
  "kernelspec": {
   "display_name": "Python (yolo)",
   "language": "python",
   "name": "yolo"
  },
  "language_info": {
   "codemirror_mode": {
    "name": "ipython",
    "version": 3
   },
   "file_extension": ".py",
   "mimetype": "text/x-python",
   "name": "python",
   "nbconvert_exporter": "python",
   "pygments_lexer": "ipython3",
   "version": "3.10.13"
  }
 },
 "nbformat": 4,
 "nbformat_minor": 5
}
